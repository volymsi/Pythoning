{
  "nbformat": 4,
  "nbformat_minor": 0,
  "metadata": {
    "colab": {
      "provenance": [],
      "include_colab_link": true
    },
    "kernelspec": {
      "name": "python3",
      "display_name": "Python 3"
    },
    "language_info": {
      "name": "python"
    }
  },
  "cells": [
    {
      "cell_type": "markdown",
      "metadata": {
        "id": "view-in-github",
        "colab_type": "text"
      },
      "source": [
        "<a href=\"https://colab.research.google.com/github/volymsi/Pythoning/blob/main/%D0%A0%D0%B0%D0%B1%D0%BE%D1%82%D0%B0_%D1%81_%D1%84%D0%B0%D0%B9%D0%BB%D0%B0%D0%BC%D0%B8.ipynb\" target=\"_parent\"><img src=\"https://colab.research.google.com/assets/colab-badge.svg\" alt=\"Open In Colab\"/></a>"
      ]
    },
    {
      "cell_type": "markdown",
      "source": [
        "Открытие файла для чтения:\n",
        "\n"
      ],
      "metadata": {
        "id": "w9zwE82Rl7ZY"
      }
    },
    {
      "cell_type": "code",
      "source": [
        "with open('file.txt', 'r') as file:\n",
        "    content = file.read()"
      ],
      "metadata": {
        "id": "PVw_vuWHl-R6"
      },
      "execution_count": null,
      "outputs": []
    },
    {
      "cell_type": "markdown",
      "source": [
        "Чтение по строкам:"
      ],
      "metadata": {
        "id": "lcOAepYXmAVs"
      }
    },
    {
      "cell_type": "code",
      "source": [
        "with open('file.txt', 'r') as file:\n",
        "    for line in file:\n",
        "        print(line)"
      ],
      "metadata": {
        "id": "JqpPlKLAmD-i"
      },
      "execution_count": null,
      "outputs": []
    },
    {
      "cell_type": "markdown",
      "source": [
        "Запись в файл:"
      ],
      "metadata": {
        "id": "ugGCF-jOmHhu"
      }
    },
    {
      "cell_type": "code",
      "source": [
        "with open('output.txt', 'w') as file:\n",
        "    file.write('Это текст, который будет записан в файл.')\n"
      ],
      "metadata": {
        "id": "ht82YmH0mI1G"
      },
      "execution_count": null,
      "outputs": []
    },
    {
      "cell_type": "markdown",
      "source": [
        "Добавление в файл:"
      ],
      "metadata": {
        "id": "ZLC8un_lmg_Q"
      }
    },
    {
      "cell_type": "code",
      "source": [
        "with open('output.txt', 'a') as file:\n",
        "    file.write('Это будет добавлено в конец файла.')"
      ],
      "metadata": {
        "id": "QbwuOxDwmicQ"
      },
      "execution_count": null,
      "outputs": []
    },
    {
      "cell_type": "markdown",
      "source": [
        "Чтение и запись в бинарных файлах:"
      ],
      "metadata": {
        "id": "9YiO1-D8mki0"
      }
    },
    {
      "cell_type": "code",
      "source": [
        "with open('binary.bin', 'rb') as file:\n",
        "    binary_data = file.read()\n",
        "\n",
        "with open('output.bin', 'wb') as file:\n",
        "    file.write(binary_data)"
      ],
      "metadata": {
        "id": "xh2yfDv3msxH"
      },
      "execution_count": null,
      "outputs": []
    },
    {
      "cell_type": "markdown",
      "source": [
        "Работа с контекстом:"
      ],
      "metadata": {
        "id": "eptIRXg1mu-u"
      }
    },
    {
      "cell_type": "code",
      "source": [
        "# Открываем файл для чтения в контексте\n",
        "with open('example.txt', 'r') as file:\n",
        "    # Внутри этого блока контекста файл открыт\n",
        "    content = file.read()\n",
        "    # Вы можете выполнять операции с файлом внутри контекста\n",
        "\n",
        "# Здесь, вне контекста, файл автоматически закрыт\n",
        "# Вы можете продолжить выполнять операции без работы с файлом\n",
        "print(content)\n"
      ],
      "metadata": {
        "id": "FS6dTAg5m6GF"
      },
      "execution_count": null,
      "outputs": []
    },
    {
      "cell_type": "markdown",
      "source": [
        "Чтение и запись в другой файл:"
      ],
      "metadata": {
        "id": "HuezQrn6nG9D"
      }
    },
    {
      "cell_type": "code",
      "source": [
        "with open('input.txt', 'r') as input_file, open('output.txt', 'w') as output_file:\n",
        "    for line in input_file:\n",
        "        # Модифицируйте данные, если необходимо\n",
        "        modified_line = line.upper()\n",
        "        output_file.write(modified_line)\n"
      ],
      "metadata": {
        "id": "aWpGVOD1nH7b"
      },
      "execution_count": null,
      "outputs": []
    },
    {
      "cell_type": "markdown",
      "source": [
        "Использование контекста с обработкой исключений:"
      ],
      "metadata": {
        "id": "48HyR_mVnOZU"
      }
    },
    {
      "cell_type": "code",
      "source": [
        "try:\n",
        "    with open('example.txt', 'r') as file:\n",
        "        content = file.read()\n",
        "    # Выполняйте операции с данными\n",
        "except FileNotFoundError:\n",
        "    print('Файл не найден')\n"
      ],
      "metadata": {
        "id": "xGUq6dKlnPbr"
      },
      "execution_count": null,
      "outputs": []
    },
    {
      "cell_type": "markdown",
      "source": [
        "Считывание всего файла в список строк:\n",
        "\n"
      ],
      "metadata": {
        "id": "WMaUP-OLnTCf"
      }
    },
    {
      "cell_type": "code",
      "source": [
        "with open('example.txt', 'r') as file:\n",
        "    lines = file.readlines()\n"
      ],
      "metadata": {
        "id": "CKjhrQJZnT_w"
      },
      "execution_count": null,
      "outputs": []
    },
    {
      "cell_type": "markdown",
      "source": [
        "Проверка наличия файла:\n",
        "\n"
      ],
      "metadata": {
        "id": "bKH29f1knXF1"
      }
    },
    {
      "cell_type": "code",
      "source": [
        "import os\n",
        "\n",
        "if os.path.exists('file.txt'):\n",
        "    print('Файл существует')\n"
      ],
      "metadata": {
        "id": "vtAtQULEnad_"
      },
      "execution_count": null,
      "outputs": []
    },
    {
      "cell_type": "markdown",
      "source": [
        "Удаление файла:\n",
        "\n"
      ],
      "metadata": {
        "id": "d_7fxzxRnb7U"
      }
    },
    {
      "cell_type": "code",
      "source": [
        "import os\n",
        "\n",
        "if os.path.exists('file.txt'):\n",
        "    os.remove('file.txt')"
      ],
      "metadata": {
        "id": "CwCb_zUEneHi"
      },
      "execution_count": null,
      "outputs": []
    },
    {
      "cell_type": "markdown",
      "source": [
        "Создание директории:\n",
        "\n"
      ],
      "metadata": {
        "id": "Ake7uoosnfi-"
      }
    },
    {
      "cell_type": "code",
      "source": [
        "import os\n",
        "\n",
        "if not os.path.exists('my_directory'):\n",
        "    os.mkdir('my_directory')\n"
      ],
      "metadata": {
        "id": "Keq19F02nhry"
      },
      "execution_count": null,
      "outputs": []
    },
    {
      "cell_type": "markdown",
      "source": [
        "Список файлов в директории:\n",
        "\n"
      ],
      "metadata": {
        "id": "7nAyCfMNno0x"
      }
    },
    {
      "cell_type": "code",
      "source": [
        "import os\n",
        "\n",
        "file_list = os.listdir('my_directory')\n",
        "for filename in file_list:\n",
        "    print(filename)\n"
      ],
      "metadata": {
        "id": "KuhYuGhBnpYO"
      },
      "execution_count": null,
      "outputs": []
    },
    {
      "cell_type": "markdown",
      "source": [
        "Использование библиотеки shutil для работы с файлами"
      ],
      "metadata": {
        "id": "uNAF6b6ynqia"
      }
    },
    {
      "cell_type": "markdown",
      "source": [
        "Копирование файлов и директорий:\n",
        "\n"
      ],
      "metadata": {
        "id": "U7x03Avdn4kq"
      }
    },
    {
      "cell_type": "code",
      "source": [
        "import shutil\n",
        "\n",
        "shutil.copy('source.txt', 'destination.txt')  # Копирование файла\n",
        "shutil.copytree('source_dir', 'destination_dir')  # Копирование директории и её содержимого\n"
      ],
      "metadata": {
        "id": "VTzknIiUn7P1"
      },
      "execution_count": null,
      "outputs": []
    },
    {
      "cell_type": "markdown",
      "source": [
        "Перемещение файлов и директорий:\n",
        "\n"
      ],
      "metadata": {
        "id": "S2aZRoDXn9Am"
      }
    },
    {
      "cell_type": "code",
      "source": [
        "import shutil\n",
        "\n",
        "shutil.move('source.txt', 'new_location/source.txt')  # Перемещение файла\n"
      ],
      "metadata": {
        "id": "UuriEXrwn_Hs"
      },
      "execution_count": null,
      "outputs": []
    },
    {
      "cell_type": "markdown",
      "source": [
        "Удаление файлов и директорий:\n",
        "\n"
      ],
      "metadata": {
        "id": "YDvfBQIPoCEV"
      }
    },
    {
      "cell_type": "code",
      "source": [
        "import shutil\n",
        "\n",
        "shutil.rmtree('directory_to_delete')  # Удаление директории и её содержимого\n"
      ],
      "metadata": {
        "id": "klzSnkLCoDda"
      },
      "execution_count": null,
      "outputs": []
    },
    {
      "cell_type": "markdown",
      "source": [
        "Переименование файлов и директорий:"
      ],
      "metadata": {
        "id": "dLK-P_9BoEml"
      }
    },
    {
      "cell_type": "code",
      "source": [
        "import shutil\n",
        "\n",
        "shutil.move('old_name.txt', 'new_name.txt')  # Переименование файла"
      ],
      "metadata": {
        "id": "2frenRM6oG5F"
      },
      "execution_count": null,
      "outputs": []
    },
    {
      "cell_type": "markdown",
      "source": [
        "Архивация и разархивация файлов и директорий:\n",
        "\n"
      ],
      "metadata": {
        "id": "BvlBdFOcoI3a"
      }
    },
    {
      "cell_type": "code",
      "source": [
        "import shutil\n",
        "\n",
        "shutil.make_archive('my_archive', 'zip', 'directory_to_archive')  # Создание ZIP-архива\n",
        "shutil.unpack_archive('my_archive.zip', 'extracted_directory')  # Разархивация\n"
      ],
      "metadata": {
        "id": "6zMC4NT4oKlt"
      },
      "execution_count": null,
      "outputs": []
    },
    {
      "cell_type": "markdown",
      "source": [
        "Копирование атрибутов файлов:\n",
        "\n"
      ],
      "metadata": {
        "id": "RvBJ3rUYoLu9"
      }
    },
    {
      "cell_type": "code",
      "source": [
        "import shutil\n",
        "\n",
        "shutil.copystat('source.txt', 'destination.txt')  # Копирование атрибутов файла\n"
      ],
      "metadata": {
        "id": "6OgP1rr3oNbx"
      },
      "execution_count": null,
      "outputs": []
    },
    {
      "cell_type": "markdown",
      "source": [
        "Сравнение файлов и директорий:\n",
        "\n"
      ],
      "metadata": {
        "id": "EH6oUTK4oOiW"
      }
    },
    {
      "cell_type": "code",
      "source": [
        "import filecmp\n",
        "\n",
        "result = filecmp.cmp('file1.txt', 'file2.txt')  # Сравнение файлов\n"
      ],
      "metadata": {
        "id": "Pa54JcFNoRJD"
      },
      "execution_count": null,
      "outputs": []
    },
    {
      "cell_type": "markdown",
      "source": [
        "Сжатие и распаковка файлов:\n",
        "\n"
      ],
      "metadata": {
        "id": "3w0QrjLAoTil"
      }
    },
    {
      "cell_type": "markdown",
      "source": [],
      "metadata": {
        "id": "F8NmYx6JoW3n"
      }
    },
    {
      "cell_type": "code",
      "source": [
        "import shutil\n",
        "\n",
        "shutil.make_archive('my_archive', 'gztar', 'directory_to_archive')  # Создание tar.gz-архива\n",
        "shutil.unpack_archive('my_archive.tar.gz', 'extracted_directory')  # Распаковка\n"
      ],
      "metadata": {
        "id": "wOiMxKG4oVW2"
      },
      "execution_count": null,
      "outputs": []
    },
    {
      "cell_type": "markdown",
      "source": [
        "Использование библиотеки os для работы с файлами"
      ],
      "metadata": {
        "id": "pIc81AtgtJQq"
      }
    },
    {
      "cell_type": "markdown",
      "source": [
        "Получение текущей директории:\n",
        "\n"
      ],
      "metadata": {
        "id": "OWX7iCxktY0x"
      }
    },
    {
      "cell_type": "code",
      "source": [
        "import os\n",
        "\n",
        "current_directory = os.getcwd()\n"
      ],
      "metadata": {
        "id": "SPkbqZw4tZZH"
      },
      "execution_count": null,
      "outputs": []
    },
    {
      "cell_type": "markdown",
      "source": [
        "Изменение текущей директории:\n",
        "\n"
      ],
      "metadata": {
        "id": "uRuNUiM8tesy"
      }
    },
    {
      "cell_type": "code",
      "source": [
        "import os\n",
        "\n",
        "os.chdir('/путь/к/новой/директории')\n"
      ],
      "metadata": {
        "id": "cm1CzGXctgSx"
      },
      "execution_count": null,
      "outputs": []
    },
    {
      "cell_type": "markdown",
      "source": [
        "Создание директории:\n",
        "\n"
      ],
      "metadata": {
        "id": "_jiPpIPPthVS"
      }
    },
    {
      "cell_type": "code",
      "source": [
        "import os\n",
        "\n",
        "os.mkdir('/путь/к/новой/директории')\n"
      ],
      "metadata": {
        "id": "NBhzcA9HtjR0"
      },
      "execution_count": null,
      "outputs": []
    },
    {
      "cell_type": "markdown",
      "source": [
        "Создание директорий рекурсивно (с вложенными поддиректориями):\n",
        "\n"
      ],
      "metadata": {
        "id": "XAzyjbgStkfD"
      }
    },
    {
      "cell_type": "code",
      "source": [
        "import os\n",
        "\n",
        "os.makedirs('/путь/к/новой/директории/с/вложенными/поддиректориями', exist_ok=True)\n"
      ],
      "metadata": {
        "id": "wr7CwCHrtm0D"
      },
      "execution_count": null,
      "outputs": []
    },
    {
      "cell_type": "markdown",
      "source": [
        "Переименование файла или директории:\n",
        "\n"
      ],
      "metadata": {
        "id": "J7s39og5tn2s"
      }
    },
    {
      "cell_type": "code",
      "source": [
        "import os\n",
        "\n",
        "os.rename('старое_имя.txt', 'новое_имя.txt')\n"
      ],
      "metadata": {
        "id": "ZAeCFJSztps4"
      },
      "execution_count": null,
      "outputs": []
    },
    {
      "cell_type": "markdown",
      "source": [
        "Удаление файла:\n",
        "\n"
      ],
      "metadata": {
        "id": "UFzcyEyztqs-"
      }
    },
    {
      "cell_type": "code",
      "source": [
        "import os\n",
        "\n",
        "os.remove('файл_для_удаления.txt')\n"
      ],
      "metadata": {
        "id": "dCqbNlw1tsU0"
      },
      "execution_count": null,
      "outputs": []
    },
    {
      "cell_type": "markdown",
      "source": [
        "Удаление директории:\n",
        "\n"
      ],
      "metadata": {
        "id": "5Bx5bzSsttXl"
      }
    },
    {
      "cell_type": "code",
      "source": [
        "import os\n",
        "\n",
        "os.rmdir('/путь/к/директории')\n"
      ],
      "metadata": {
        "id": "s0KotGDntu0E"
      },
      "execution_count": null,
      "outputs": []
    },
    {
      "cell_type": "markdown",
      "source": [
        "Удаление директории и её содержимого рекурсивно:\n",
        "\n"
      ],
      "metadata": {
        "id": "5NkrWKc9tv5F"
      }
    },
    {
      "cell_type": "code",
      "source": [
        "import os\n",
        "\n",
        "os.removedirs('/путь/к/директории/с/вложенными/поддиректориями')\n"
      ],
      "metadata": {
        "id": "8PRfX87CtxX7"
      },
      "execution_count": null,
      "outputs": []
    },
    {
      "cell_type": "markdown",
      "source": [
        "Проверка существования файла или директории:\n",
        "\n"
      ],
      "metadata": {
        "id": "f_fE2MTCtyfy"
      }
    },
    {
      "cell_type": "code",
      "source": [
        "import os\n",
        "\n",
        "exists = os.path.exists('путь/к/файлу_или_директории')\n"
      ],
      "metadata": {
        "id": "ECyySSAptz9h"
      },
      "execution_count": null,
      "outputs": []
    },
    {
      "cell_type": "markdown",
      "source": [
        "Получение списка файлов и директорий в директории:\n",
        "\n"
      ],
      "metadata": {
        "id": "-mjdC6vft00g"
      }
    },
    {
      "cell_type": "code",
      "source": [
        "import os\n",
        "\n",
        "file_list = os.listdir('/путь/к/директории')\n"
      ],
      "metadata": {
        "id": "yYGM4qFct2I3"
      },
      "execution_count": null,
      "outputs": []
    },
    {
      "cell_type": "markdown",
      "source": [
        "Разделение пути файла на каталог и имя файла:\n",
        "\n"
      ],
      "metadata": {
        "id": "0UxT_uPFt3Ia"
      }
    },
    {
      "cell_type": "code",
      "source": [
        "import os\n",
        "\n",
        "directory, filename = os.path.split('/путь/к/файлу')\n"
      ],
      "metadata": {
        "id": "qWytyE14t5fm"
      },
      "execution_count": null,
      "outputs": []
    },
    {
      "cell_type": "markdown",
      "source": [
        "Получение абсолютного пути к файлу или директории:\n",
        "\n"
      ],
      "metadata": {
        "id": "mpA98iNHt6Mi"
      }
    },
    {
      "cell_type": "code",
      "source": [
        "import os\n",
        "\n",
        "absolute_path = os.path.abspath('относительный/путь')\n"
      ],
      "metadata": {
        "id": "ruPB832ot79U"
      },
      "execution_count": null,
      "outputs": []
    },
    {
      "cell_type": "markdown",
      "source": [
        "Получение информации о файле (размер, время модификации и другие атрибуты):\n",
        "\n"
      ],
      "metadata": {
        "id": "YebN1Rdot9F2"
      }
    },
    {
      "cell_type": "code",
      "source": [
        "import os\n",
        "\n",
        "file_info = os.stat('файл.txt')\n"
      ],
      "metadata": {
        "id": "-DswTiEIt-mk"
      },
      "execution_count": null,
      "outputs": []
    },
    {
      "cell_type": "markdown",
      "source": [
        "Создание символической ссылки:\n",
        "\n"
      ],
      "metadata": {
        "id": "0B9O7qOOt_2U"
      }
    },
    {
      "cell_type": "code",
      "source": [
        "import os\n",
        "\n",
        "os.symlink('ссылка_на_файл.txt', 'символическая_ссылка.txt')\n"
      ],
      "metadata": {
        "id": "dy_HL-IeuBM2"
      },
      "execution_count": null,
      "outputs": []
    }
  ]
}